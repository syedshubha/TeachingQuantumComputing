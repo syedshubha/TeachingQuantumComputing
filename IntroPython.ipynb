{
  "nbformat": 4,
  "nbformat_minor": 0,
  "metadata": {
    "colab": {
      "provenance": [],
      "include_colab_link": true
    },
    "kernelspec": {
      "name": "python3",
      "display_name": "Python 3"
    },
    "language_info": {
      "name": "python"
    }
  },
  "cells": [
    {
      "cell_type": "markdown",
      "metadata": {
        "id": "view-in-github",
        "colab_type": "text"
      },
      "source": [
        "<a href=\"https://colab.research.google.com/github/syedshubha/TeachingQuantumComputing/blob/main/IntroPython.ipynb\" target=\"_parent\"><img src=\"https://colab.research.google.com/assets/colab-badge.svg\" alt=\"Open In Colab\"/></a>"
      ]
    },
    {
      "cell_type": "code",
      "execution_count": null,
      "metadata": {
        "id": "lk1L4JYKzwsH"
      },
      "outputs": [],
      "source": [
        "s = \"Hello world\""
      ]
    },
    {
      "cell_type": "code",
      "source": [
        "s[-2]"
      ],
      "metadata": {
        "colab": {
          "base_uri": "https://localhost:8080/",
          "height": 36
        },
        "id": "i4j7Hwn40hH6",
        "outputId": "fea6d8b2-dcff-4d62-b227-39315cc76cf9"
      },
      "execution_count": null,
      "outputs": [
        {
          "output_type": "execute_result",
          "data": {
            "text/plain": [
              "'l'"
            ],
            "application/vnd.google.colaboratory.intrinsic+json": {
              "type": "string"
            }
          },
          "metadata": {},
          "execution_count": 5
        }
      ]
    },
    {
      "cell_type": "code",
      "source": [
        "s[1:8:2]"
      ],
      "metadata": {
        "colab": {
          "base_uri": "https://localhost:8080/",
          "height": 36
        },
        "id": "Ci5_hilM0sEh",
        "outputId": "44e0bab3-676a-4f1a-af1d-9b3b35f4f29c"
      },
      "execution_count": null,
      "outputs": [
        {
          "output_type": "execute_result",
          "data": {
            "text/plain": [
              "'el o'"
            ],
            "application/vnd.google.colaboratory.intrinsic+json": {
              "type": "string"
            }
          },
          "metadata": {},
          "execution_count": 8
        }
      ]
    },
    {
      "cell_type": "code",
      "source": [
        "s[::-1]"
      ],
      "metadata": {
        "colab": {
          "base_uri": "https://localhost:8080/",
          "height": 36
        },
        "id": "8iqHslfe1GuM",
        "outputId": "70d10266-5e90-4ac5-b158-a6145bc8fdea"
      },
      "execution_count": null,
      "outputs": [
        {
          "output_type": "execute_result",
          "data": {
            "text/plain": [
              "'dlrow olleH'"
            ],
            "application/vnd.google.colaboratory.intrinsic+json": {
              "type": "string"
            }
          },
          "metadata": {},
          "execution_count": 9
        }
      ]
    },
    {
      "cell_type": "code",
      "source": [
        "#list\n",
        "A= [1,1.2,[], \"\"]\n",
        "A[-1]"
      ],
      "metadata": {
        "colab": {
          "base_uri": "https://localhost:8080/",
          "height": 36
        },
        "id": "cAhA_9mM1PJS",
        "outputId": "233f253d-8515-4325-cd31-94cecc0a89b6"
      },
      "execution_count": null,
      "outputs": [
        {
          "output_type": "execute_result",
          "data": {
            "text/plain": [
              "''"
            ],
            "application/vnd.google.colaboratory.intrinsic+json": {
              "type": "string"
            }
          },
          "metadata": {},
          "execution_count": 12
        }
      ]
    },
    {
      "cell_type": "code",
      "source": [
        "#tuple\n",
        "z = 2, 3\n",
        "type(z)"
      ],
      "metadata": {
        "colab": {
          "base_uri": "https://localhost:8080/"
        },
        "id": "eAuNd1TC1nbi",
        "outputId": "00fc618e-b62e-425a-d52a-6aa88766a8d7"
      },
      "execution_count": null,
      "outputs": [
        {
          "output_type": "execute_result",
          "data": {
            "text/plain": [
              "tuple"
            ]
          },
          "metadata": {},
          "execution_count": 13
        }
      ]
    },
    {
      "cell_type": "code",
      "source": [
        "x, y = z\n",
        "y"
      ],
      "metadata": {
        "colab": {
          "base_uri": "https://localhost:8080/"
        },
        "id": "gGDoWwJr12aW",
        "outputId": "bcb2f3d5-129f-49a2-83bc-23b5c5052b87"
      },
      "execution_count": null,
      "outputs": [
        {
          "output_type": "execute_result",
          "data": {
            "text/plain": [
              "3"
            ]
          },
          "metadata": {},
          "execution_count": 15
        }
      ]
    },
    {
      "cell_type": "code",
      "source": [
        "x, y = y, x\n",
        "y"
      ],
      "metadata": {
        "colab": {
          "base_uri": "https://localhost:8080/"
        },
        "id": "QJ78CdTn184Y",
        "outputId": "4dd5de25-18c3-4710-db61-6388184a5685"
      },
      "execution_count": null,
      "outputs": [
        {
          "output_type": "execute_result",
          "data": {
            "text/plain": [
              "2"
            ]
          },
          "metadata": {},
          "execution_count": 16
        }
      ]
    },
    {
      "cell_type": "code",
      "source": [
        "print(s)"
      ],
      "metadata": {
        "colab": {
          "base_uri": "https://localhost:8080/"
        },
        "id": "xbJivXXX2K15",
        "outputId": "96d37a37-92c9-4190-cd51-8db1d8602379"
      },
      "execution_count": null,
      "outputs": [
        {
          "output_type": "stream",
          "name": "stdout",
          "text": [
            "Hello world\n"
          ]
        }
      ]
    },
    {
      "cell_type": "code",
      "source": [
        "try:\n",
        "  n = float(input()) #ekhane error aste pare\n",
        "  if(int(n)==n):\n",
        "    if(n%2):\n",
        "      print(\"odd\")\n",
        "    else:\n",
        "      print(\"even\")\n",
        "  else:\n",
        "    x = 2/0\n",
        "except:\n",
        "  print(\"vulval input\")"
      ],
      "metadata": {
        "colab": {
          "base_uri": "https://localhost:8080/"
        },
        "id": "3gqVahM-2aL6",
        "outputId": "aa8f4023-74a8-4148-99f7-1101abdf0df1"
      },
      "execution_count": null,
      "outputs": [
        {
          "output_type": "stream",
          "name": "stdout",
          "text": [
            "3.5\n",
            "vulval input\n"
          ]
        }
      ]
    },
    {
      "cell_type": "code",
      "source": [
        "n = 1\n",
        "while(n<=10):\n",
        "  print(n, end=\" \")\n",
        "  n = n + 1"
      ],
      "metadata": {
        "colab": {
          "base_uri": "https://localhost:8080/"
        },
        "id": "1dXAm2is5zYS",
        "outputId": "bab2265a-0493-406d-ba77-bc6217df9376"
      },
      "execution_count": null,
      "outputs": [
        {
          "output_type": "stream",
          "name": "stdout",
          "text": [
            "1 2 3 4 5 6 7 8 9 10 "
          ]
        }
      ]
    },
    {
      "cell_type": "code",
      "source": [
        "n = 1\n",
        "while(True):\n",
        "  if(n==5):\n",
        "    n = 6\n",
        "    continue\n",
        "  print(n, end=\" \")\n",
        "  n = n + 1\n",
        "  if(n>10):\n",
        "    break"
      ],
      "metadata": {
        "colab": {
          "base_uri": "https://localhost:8080/"
        },
        "id": "b7COif5A7htg",
        "outputId": "e87f2149-c80f-47fd-9ba6-473a82a621e9"
      },
      "execution_count": null,
      "outputs": [
        {
          "output_type": "stream",
          "name": "stdout",
          "text": [
            "1 2 3 4 6 7 8 9 10 "
          ]
        }
      ]
    },
    {
      "cell_type": "code",
      "source": [
        "print(\"-\"*10)\n",
        "a, b = 2 , 3\n",
        "print(f\"x={a}, y={b}\")"
      ],
      "metadata": {
        "colab": {
          "base_uri": "https://localhost:8080/"
        },
        "id": "YQAlRXih6usb",
        "outputId": "df46b372-3110-47a1-85a5-01e19ab05540"
      },
      "execution_count": null,
      "outputs": [
        {
          "output_type": "stream",
          "name": "stdout",
          "text": [
            "----------\n",
            "x=2, y=3\n"
          ]
        }
      ]
    },
    {
      "cell_type": "code",
      "source": [
        "x = 3.0\n",
        "int(x)==x"
      ],
      "metadata": {
        "colab": {
          "base_uri": "https://localhost:8080/"
        },
        "id": "ESxz2vFS3Igb",
        "outputId": "321cf40c-0435-40e8-e244-e76c343e48cf"
      },
      "execution_count": null,
      "outputs": [
        {
          "output_type": "execute_result",
          "data": {
            "text/plain": [
              "True"
            ]
          },
          "metadata": {},
          "execution_count": 38
        }
      ]
    },
    {
      "cell_type": "code",
      "source": [
        "while(True):\n",
        "  try:\n",
        "    n = float(input()) #ekhane error aste pare\n",
        "    if(int(n)==n):\n",
        "      if(n%2):\n",
        "        print(\"odd\")\n",
        "      else:\n",
        "        print(\"even\")\n",
        "      break\n",
        "    else:\n",
        "      x = 2/0\n",
        "  except:\n",
        "    pass"
      ],
      "metadata": {
        "colab": {
          "base_uri": "https://localhost:8080/"
        },
        "id": "fIdGso3U5IwW",
        "outputId": "f5e19c74-a0db-4eec-a156-a46bf829fc08"
      },
      "execution_count": null,
      "outputs": [
        {
          "output_type": "stream",
          "name": "stdout",
          "text": [
            "a\n",
            "5.7\n",
            "-8\n",
            "even\n"
          ]
        }
      ]
    },
    {
      "cell_type": "code",
      "source": [
        "'3' in \"223\""
      ],
      "metadata": {
        "colab": {
          "base_uri": "https://localhost:8080/"
        },
        "id": "ZcjRN62x9XbK",
        "outputId": "d9226520-bdac-4c48-e835-e7616d026f24"
      },
      "execution_count": null,
      "outputs": [
        {
          "output_type": "execute_result",
          "data": {
            "text/plain": [
              "True"
            ]
          },
          "metadata": {},
          "execution_count": 55
        }
      ]
    },
    {
      "cell_type": "code",
      "source": [
        "list(range(1,6,2))"
      ],
      "metadata": {
        "colab": {
          "base_uri": "https://localhost:8080/"
        },
        "id": "B_lrRCmu-avw",
        "outputId": "f23dfd83-4137-4eed-9a80-fa6ec0c702b9"
      },
      "execution_count": null,
      "outputs": [
        {
          "output_type": "execute_result",
          "data": {
            "text/plain": [
              "[1, 3, 5]"
            ]
          },
          "metadata": {},
          "execution_count": 62
        }
      ]
    },
    {
      "cell_type": "code",
      "source": [
        "for i in range(1,11):\n",
        "  print(i, end=\" \")"
      ],
      "metadata": {
        "colab": {
          "base_uri": "https://localhost:8080/"
        },
        "id": "DTOk4LJK-G8b",
        "outputId": "4db552d4-5102-4624-d3d0-44c2ed792c59"
      },
      "execution_count": null,
      "outputs": [
        {
          "output_type": "stream",
          "name": "stdout",
          "text": [
            "1 2 3 4 5 6 7 8 9 10 "
          ]
        }
      ]
    },
    {
      "cell_type": "code",
      "source": [
        "x=[1,5,4,0]\n",
        "x[1]= -1\n",
        "x"
      ],
      "metadata": {
        "colab": {
          "base_uri": "https://localhost:8080/"
        },
        "id": "YdjpWXE0-9-v",
        "outputId": "f7b554cd-e533-4426-b403-f8e4526b5f91"
      },
      "execution_count": null,
      "outputs": [
        {
          "output_type": "execute_result",
          "data": {
            "text/plain": [
              "[1, -1, 4, 0]"
            ]
          },
          "metadata": {},
          "execution_count": 67
        }
      ]
    },
    {
      "cell_type": "code",
      "source": [
        "import numpy as np\n",
        "x = np.array([1,2,4])\n",
        "from numpy import *\n",
        "x = linspace(0,1,11)\n",
        "x"
      ],
      "metadata": {
        "colab": {
          "base_uri": "https://localhost:8080/"
        },
        "id": "WaQLtL3i_hD4",
        "outputId": "978fc1d6-c289-4e23-b0fb-ab8a08bbe798"
      },
      "execution_count": null,
      "outputs": [
        {
          "output_type": "execute_result",
          "data": {
            "text/plain": [
              "array([0. , 0.1, 0.2, 0.3, 0.4, 0.5, 0.6, 0.7, 0.8, 0.9, 1. ])"
            ]
          },
          "metadata": {},
          "execution_count": 69
        }
      ]
    },
    {
      "cell_type": "code",
      "source": [
        "x = [i**2 for i in range(1,10)]\n",
        "x"
      ],
      "metadata": {
        "colab": {
          "base_uri": "https://localhost:8080/"
        },
        "id": "UhbFP0LGAhqR",
        "outputId": "708fe7c0-5f29-49ce-83e3-a80b5fe75490"
      },
      "execution_count": null,
      "outputs": [
        {
          "output_type": "execute_result",
          "data": {
            "text/plain": [
              "[1, 4, 9, 16, 25, 36, 49, 64, 81]"
            ]
          },
          "metadata": {},
          "execution_count": 70
        }
      ]
    },
    {
      "cell_type": "code",
      "source": [
        "x = [0.1*i for i in range(11)]\n",
        "x"
      ],
      "metadata": {
        "colab": {
          "base_uri": "https://localhost:8080/"
        },
        "id": "TyAtOcCxAvO5",
        "outputId": "a638c1bf-5de5-4042-9faf-32b673c1ac5f"
      },
      "execution_count": null,
      "outputs": [
        {
          "output_type": "execute_result",
          "data": {
            "text/plain": [
              "[0.0,\n",
              " 0.1,\n",
              " 0.2,\n",
              " 0.30000000000000004,\n",
              " 0.4,\n",
              " 0.5,\n",
              " 0.6000000000000001,\n",
              " 0.7000000000000001,\n",
              " 0.8,\n",
              " 0.9,\n",
              " 1.0]"
            ]
          },
          "metadata": {},
          "execution_count": 71
        }
      ]
    },
    {
      "cell_type": "markdown",
      "source": [
        "#CHSH inequality\n",
        "$a_1, a_2, b_1, b_2 \\in \\{-1,1\\}$  \n",
        "$s= |E(a_1 (b_1+b_2) + a_2(b_1-b_2))| \\leq 2  $"
      ],
      "metadata": {
        "id": "QqLu5iX2Bk75"
      }
    },
    {
      "cell_type": "code",
      "source": [
        "for a1 in [-1,1]:\n",
        "  for a2 in [-1,1]:\n",
        "    for b1 in [-1,1]:\n",
        "      for b2 in [-1,1]:\n",
        "        s = a1*(b1+b2)+a2*(b1-b2);\n",
        "        print(f\"a1={a1}, a2={a2}, b1={b1}, b2={b2}, s={s}\")"
      ],
      "metadata": {
        "colab": {
          "base_uri": "https://localhost:8080/"
        },
        "id": "0THquvxLBx1S",
        "outputId": "55b2c620-0dc6-42d5-9d11-36d746cf2c50"
      },
      "execution_count": null,
      "outputs": [
        {
          "output_type": "stream",
          "name": "stdout",
          "text": [
            "a1=-1, a2=-1, b1=-1, b2=-1, s=2\n",
            "a1=-1, a2=-1, b1=-1, b2=1, s=2\n",
            "a1=-1, a2=-1, b1=1, b2=-1, s=-2\n",
            "a1=-1, a2=-1, b1=1, b2=1, s=-2\n",
            "a1=-1, a2=1, b1=-1, b2=-1, s=2\n",
            "a1=-1, a2=1, b1=-1, b2=1, s=-2\n",
            "a1=-1, a2=1, b1=1, b2=-1, s=2\n",
            "a1=-1, a2=1, b1=1, b2=1, s=-2\n",
            "a1=1, a2=-1, b1=-1, b2=-1, s=-2\n",
            "a1=1, a2=-1, b1=-1, b2=1, s=2\n",
            "a1=1, a2=-1, b1=1, b2=-1, s=-2\n",
            "a1=1, a2=-1, b1=1, b2=1, s=2\n",
            "a1=1, a2=1, b1=-1, b2=-1, s=-2\n",
            "a1=1, a2=1, b1=-1, b2=1, s=-2\n",
            "a1=1, a2=1, b1=1, b2=-1, s=2\n",
            "a1=1, a2=1, b1=1, b2=1, s=2\n"
          ]
        }
      ]
    },
    {
      "cell_type": "code",
      "source": [
        "def d(x,y):\n",
        "  return (x**2+y**2)**0.5\n",
        "d(-3,4)"
      ],
      "metadata": {
        "colab": {
          "base_uri": "https://localhost:8080/"
        },
        "id": "EVUPaTQZEkIQ",
        "outputId": "918a0373-e6e7-49b7-aeee-75cb4cb576a0"
      },
      "execution_count": null,
      "outputs": [
        {
          "output_type": "execute_result",
          "data": {
            "text/plain": [
              "5.0"
            ]
          },
          "metadata": {},
          "execution_count": 73
        }
      ]
    },
    {
      "cell_type": "code",
      "source": [
        "f = lambda a, b: a*b+1/b\n",
        "f(2,1)"
      ],
      "metadata": {
        "colab": {
          "base_uri": "https://localhost:8080/"
        },
        "id": "zwWOaCLmFAmA",
        "outputId": "2a0fcd54-4765-4201-838c-2d90f8617f3f"
      },
      "execution_count": null,
      "outputs": [
        {
          "output_type": "execute_result",
          "data": {
            "text/plain": [
              "3.0"
            ]
          },
          "metadata": {},
          "execution_count": 74
        }
      ]
    },
    {
      "cell_type": "code",
      "source": [
        "x = linspace(0,10,101)\n",
        "y = sin(x)\n",
        "z = cos(x)\n",
        "from matplotlib.pyplot import *\n",
        "plot(x,y,label=\"y = sin(x)\")\n",
        "plot(x,z, label= \"y= cos(x)\")\n",
        "grid()\n",
        "legend()\n",
        "show()"
      ],
      "metadata": {
        "colab": {
          "base_uri": "https://localhost:8080/",
          "height": 430
        },
        "id": "U15Pw0CEFam2",
        "outputId": "afd18b8c-6665-4566-c34e-7a03225d41fe"
      },
      "execution_count": null,
      "outputs": [
        {
          "output_type": "display_data",
          "data": {
            "text/plain": [
              "<Figure size 640x480 with 1 Axes>"
            ],
            "image/png": "[encoded data removed]"
          },
          "metadata": {}
        }
      ]
    },
    {
      "cell_type": "code",
      "source": [
        "from sympy import *\n",
        "x, y = symbols('x y')\n",
        "x"
      ],
      "metadata": {
        "colab": {
          "base_uri": "https://localhost:8080/",
          "height": 38
        },
        "id": "sN4DGLWZGurs",
        "outputId": "176036c1-4c66-4bff-e961-a487d95c0728"
      },
      "execution_count": null,
      "outputs": [
        {
          "output_type": "execute_result",
          "data": {
            "text/plain": [
              "x"
            ],
            "text/latex": "$\\displaystyle x$"
          },
          "metadata": {},
          "execution_count": 78
        }
      ]
    },
    {
      "cell_type": "code",
      "source": [
        "f = x**2 + 2*y\n",
        "type(f)"
      ],
      "metadata": {
        "colab": {
          "base_uri": "https://localhost:8080/"
        },
        "id": "JpilVTosHI6D",
        "outputId": "487a2d9d-9acd-43fe-cb81-312807a4a3b7"
      },
      "execution_count": null,
      "outputs": [
        {
          "output_type": "execute_result",
          "data": {
            "text/plain": [
              "sympy.core.add.Add"
            ]
          },
          "metadata": {},
          "execution_count": 81
        }
      ]
    },
    {
      "cell_type": "code",
      "source": [
        "Eq(x,3)"
      ],
      "metadata": {
        "colab": {
          "base_uri": "https://localhost:8080/",
          "height": 38
        },
        "id": "GYufK5P2HRSo",
        "outputId": "01c64fc0-663e-46bb-8031-88790f9a8a41"
      },
      "execution_count": null,
      "outputs": [
        {
          "output_type": "execute_result",
          "data": {
            "text/plain": [
              "Eq(x, 3)"
            ],
            "text/latex": "$\\displaystyle x = 3$"
          },
          "metadata": {},
          "execution_count": 80
        }
      ]
    },
    {
      "cell_type": "code",
      "source": [
        "f = eval(input())\n",
        "f"
      ],
      "metadata": {
        "colab": {
          "base_uri": "https://localhost:8080/",
          "height": 56
        },
        "id": "OIuwc8OiHbvY",
        "outputId": "bd20454a-5ff6-4a6b-faa9-36376fe91bda"
      },
      "execution_count": null,
      "outputs": [
        {
          "name": "stdout",
          "output_type": "stream",
          "text": [
            "tan(x)\n"
          ]
        },
        {
          "output_type": "execute_result",
          "data": {
            "text/plain": [
              "tan(x)"
            ],
            "text/latex": "$\\displaystyle \\tan{\\left(x \\right)}$"
          },
          "metadata": {},
          "execution_count": 82
        }
      ]
    },
    {
      "cell_type": "code",
      "source": [
        "f = eval(input())\n",
        "Eq(f, factor(f))"
      ],
      "metadata": {
        "colab": {
          "base_uri": "https://localhost:8080/",
          "height": 56
        },
        "id": "_OpHj-pLHWkb",
        "outputId": "ac198454-ff70-48f6-fbd1-ef64aea43f0d"
      },
      "execution_count": null,
      "outputs": [
        {
          "name": "stdout",
          "output_type": "stream",
          "text": [
            "x**2 + 5*x + 6\n"
          ]
        },
        {
          "output_type": "execute_result",
          "data": {
            "text/plain": [
              "Eq(x**2 + 5*x + 6, (x + 2)*(x + 3))"
            ],
            "text/latex": "$\\displaystyle x^{2} + 5 x + 6 = \\left(x + 2\\right) \\left(x + 3\\right)$"
          },
          "metadata": {},
          "execution_count": 83
        }
      ]
    },
    {
      "cell_type": "code",
      "source": [
        "f = eval(input())\n",
        "Eq(Integral(f), integrate(f))"
      ],
      "metadata": {
        "colab": {
          "base_uri": "https://localhost:8080/",
          "height": 72
        },
        "id": "uEB4SS3HIDNE",
        "outputId": "37b7997c-0423-4d3c-b40b-66a700712ed1"
      },
      "execution_count": null,
      "outputs": [
        {
          "name": "stdout",
          "output_type": "stream",
          "text": [
            "x**2 * cos(x)\n"
          ]
        },
        {
          "output_type": "execute_result",
          "data": {
            "text/plain": [
              "Eq(Integral(x**2*cos(x), x), x**2*sin(x) + 2*x*cos(x) - 2*sin(x))"
            ],
            "text/latex": "$\\displaystyle \\int x^{2} \\cos{\\left(x \\right)}\\, dx = x^{2} \\sin{\\left(x \\right)} + 2 x \\cos{\\left(x \\right)} - 2 \\sin{\\left(x \\right)}$"
          },
          "metadata": {},
          "execution_count": 84
        }
      ]
    },
    {
      "cell_type": "code",
      "source": [
        "f = eval(input())\n",
        "Eq(f, expand_trig(f))"
      ],
      "metadata": {
        "colab": {
          "base_uri": "https://localhost:8080/",
          "height": 56
        },
        "id": "F6fZI1wWIVvi",
        "outputId": "170d6a79-3be0-4b6b-ed08-8659a2922462"
      },
      "execution_count": null,
      "outputs": [
        {
          "name": "stdout",
          "output_type": "stream",
          "text": [
            "cos(5*x)\n"
          ]
        },
        {
          "output_type": "execute_result",
          "data": {
            "text/plain": [
              "Eq(cos(5*x), 16*cos(x)**5 - 20*cos(x)**3 + 5*cos(x))"
            ],
            "text/latex": "$\\displaystyle \\cos{\\left(5 x \\right)} = 16 \\cos^{5}{\\left(x \\right)} - 20 \\cos^{3}{\\left(x \\right)} + 5 \\cos{\\left(x \\right)}$"
          },
          "metadata": {},
          "execution_count": 86
        }
      ]
    },
    {
      "cell_type": "code",
      "source": [
        "x = symbols(\"x\")\n",
        "f= 3*x\n",
        "f.evalf(subs={x:2})"
      ],
      "metadata": {
        "colab": {
          "base_uri": "https://localhost:8080/",
          "height": 37
        },
        "id": "YpCgl-hYIu2n",
        "outputId": "fa9d7290-7d38-4828-e013-db6ea83fb967"
      },
      "execution_count": null,
      "outputs": [
        {
          "output_type": "execute_result",
          "data": {
            "text/plain": [
              "6.00000000000000"
            ],
            "text/latex": "$\\displaystyle 6.0$"
          },
          "metadata": {},
          "execution_count": 97
        }
      ]
    },
    {
      "cell_type": "code",
      "source": [
        "f = 3*x + y\n",
        "f.subs([(x,sqrt(3)), (y,pi)]).evalf()"
      ],
      "metadata": {
        "colab": {
          "base_uri": "https://localhost:8080/",
          "height": 37
        },
        "id": "6tZTp2pyKMBi",
        "outputId": "3226c2dd-880a-410c-a876-e6ab5e7ddfe9"
      },
      "execution_count": null,
      "outputs": [
        {
          "output_type": "execute_result",
          "data": {
            "text/plain": [
              "8.33774507629643"
            ],
            "text/latex": "$\\displaystyle 8.33774507629643$"
          },
          "metadata": {},
          "execution_count": 101
        }
      ]
    },
    {
      "cell_type": "code",
      "source": [
        "pi.evalf(100)"
      ],
      "metadata": {
        "colab": {
          "base_uri": "https://localhost:8080/",
          "height": 57
        },
        "id": "BYMi9cyrJwbY",
        "outputId": "7cc7b8de-4a75-4111-fc16-566d3b51b4ba"
      },
      "execution_count": null,
      "outputs": [
        {
          "output_type": "execute_result",
          "data": {
            "text/plain": [
              "3.141592653589793238462643383279502884197169399375105820974944592307816406286208998628034825342117068"
            ],
            "text/latex": "$\\displaystyle 3.141592653589793238462643383279502884197169399375105820974944592307816406286208998628034825342117068$"
          },
          "metadata": {},
          "execution_count": 96
        }
      ]
    },
    {
      "cell_type": "code",
      "source": [
        "s= \"hello world\"\n",
        "a=s.capitalize()\n",
        "a"
      ],
      "metadata": {
        "colab": {
          "base_uri": "https://localhost:8080/",
          "height": 36
        },
        "id": "3OLGI49MI6qL",
        "outputId": "5cc38153-2fd2-4518-8fc5-7f30f06e93f5"
      },
      "execution_count": null,
      "outputs": [
        {
          "output_type": "execute_result",
          "data": {
            "text/plain": [
              "'Hello world'"
            ],
            "application/vnd.google.colaboratory.intrinsic+json": {
              "type": "string"
            }
          },
          "metadata": {},
          "execution_count": 89
        }
      ]
    },
    {
      "cell_type": "code",
      "source": [
        "from matplotlib.pyplot import *"
      ],
      "metadata": {
        "id": "Y18c10gpLVSU"
      },
      "execution_count": null,
      "outputs": []
    },
    {
      "cell_type": "markdown",
      "source": [
        "$ x\\in [-1,1]$"
      ],
      "metadata": {
        "id": "UQ75UyS4KoxR"
      }
    },
    {
      "cell_type": "code",
      "source": [
        "x_val = linspace(-1,1,100)\n",
        "f = eval(input())\n",
        "f_val = [f.subs(x,i) for i in x_val]\n",
        "plot(x_val, f_val, label=str(f))\n",
        "grid()\n",
        "legend()\n",
        "show()"
      ],
      "metadata": {
        "colab": {
          "base_uri": "https://localhost:8080/",
          "height": 448
        },
        "id": "Nz-Rf2NbKmm6",
        "outputId": "27035523-7b56-400f-9d98-9d51c360c3e8"
      },
      "execution_count": null,
      "outputs": [
        {
          "name": "stdout",
          "output_type": "stream",
          "text": [
            "x**3\n"
          ]
        },
        {
          "output_type": "display_data",
          "data": {
            "text/plain": [
              "<Figure size 640x480 with 1 Axes>"
            ],
            "image/png": "[encoded data removed]"
          },
          "metadata": {}
        }
      ]
    }
  ]
}